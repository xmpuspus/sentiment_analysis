{
 "cells": [
  {
   "cell_type": "code",
   "execution_count": 7,
   "metadata": {},
   "outputs": [],
   "source": [
    "# !pip install tweepy"
   ]
  },
  {
   "cell_type": "code",
   "execution_count": 4,
   "metadata": {},
   "outputs": [],
   "source": [
    "# !pip install textblob"
   ]
  },
  {
   "cell_type": "code",
   "execution_count": 81,
   "metadata": {},
   "outputs": [],
   "source": [
    "# General:\n",
    "import tweepy           # To consume Twitter's API\n",
    "import pandas as pd     # To handle data\n",
    "import numpy as np      # For numerical computation\n",
    "\n",
    "# For plotting and visualization:\n",
    "from IPython.display import display\n",
    "import matplotlib.pyplot as plt\n",
    "plt.style.use('fivethirtyeight')\n",
    "import seaborn as sns\n",
    "sns.set_style('white')\n",
    "%matplotlib inline"
   ]
  },
  {
   "cell_type": "code",
   "execution_count": 95,
   "metadata": {},
   "outputs": [],
   "source": [
    "# keras-tensorflow packages\n",
    "from keras import metrics\n",
    "from keras.preprocessing.text import Tokenizer\n",
    "from keras.preprocessing.sequence import pad_sequences\n",
    "from keras.models import Sequential, load_model\n",
    "from keras.layers import Dense, Embedding, LSTM, Bidirectional, SpatialDropout1D, Dropout\n",
    "from sklearn.model_selection import train_test_split\n",
    "\n",
    "from keras.utils.np_utils import to_categorical\n",
    "import re"
   ]
  },
  {
   "cell_type": "code",
   "execution_count": 56,
   "metadata": {},
   "outputs": [],
   "source": [
    "from sklearn.metrics import confusion_matrix as cf\n",
    "from sklearn.metrics import accuracy_score"
   ]
  },
  {
   "cell_type": "markdown",
   "metadata": {},
   "source": [
    "### Load The Reviews"
   ]
  },
  {
   "cell_type": "code",
   "execution_count": 14,
   "metadata": {},
   "outputs": [],
   "source": [
    "# load the reviews\n",
    "enc='latin-1'\n",
    "positive_reviews = [line.rstrip('\\n') for line in open('data/sentimentdata/rt-polarity.pos', encoding=enc)]\n",
    "negative_reviews = [line.rstrip('\\n') for line in open('data/sentimentdata/rt-polarity.neg', encoding=enc)]"
   ]
  },
  {
   "cell_type": "code",
   "execution_count": 16,
   "metadata": {},
   "outputs": [
    {
     "data": {
      "text/plain": [
       "'the rock is destined to be the 21st century\\'s new \" conan \" and that he\\'s going to make a splash even greater than arnold schwarzenegger , jean-claud van damme or steven segal . '"
      ]
     },
     "execution_count": 16,
     "metadata": {},
     "output_type": "execute_result"
    }
   ],
   "source": [
    "positive_reviews[0]"
   ]
  },
  {
   "cell_type": "code",
   "execution_count": 27,
   "metadata": {},
   "outputs": [
    {
     "data": {
      "text/plain": [
       "'simplistic , silly and tedious . '"
      ]
     },
     "execution_count": 27,
     "metadata": {},
     "output_type": "execute_result"
    }
   ],
   "source": [
    "negative_reviews[0]"
   ]
  },
  {
   "cell_type": "markdown",
   "metadata": {},
   "source": [
    "### Compile Sentiments To One Dataframe"
   ]
  },
  {
   "cell_type": "code",
   "execution_count": 25,
   "metadata": {},
   "outputs": [],
   "source": [
    "sentiments_pos = pd.DataFrame(positive_reviews, columns = ['Text'])\n",
    "sentiments_pos['Sentiment'] = 1\n",
    "\n",
    "sentiments_neg = pd.DataFrame(negative_reviews, columns = ['Text'])\n",
    "sentiments_neg['Sentiment'] = 0\n",
    "\n",
    "sentiments = pd.concat([sentiments_pos, sentiments_neg])\n"
   ]
  },
  {
   "cell_type": "code",
   "execution_count": 37,
   "metadata": {},
   "outputs": [],
   "source": [
    "tokenizer = Tokenizer(num_words=2000, split=' ')\n",
    "\n",
    "tokenizer.fit_on_texts(sentiments['Text'])\n",
    "X = tokenizer.texts_to_sequences(sentiments['Text'])\n",
    "X = pad_sequences(X)\n",
    "y = sentiments['Sentiment']"
   ]
  },
  {
   "cell_type": "code",
   "execution_count": 38,
   "metadata": {},
   "outputs": [],
   "source": [
    "X_train, X_test, y_train, y_test = train_test_split(X, y, test_size = 0.2, random_state = 42)"
   ]
  },
  {
   "cell_type": "markdown",
   "metadata": {},
   "source": [
    "### Deep Leearning Approach using Keras-Tensorflow\n",
    "In Keras, we can define our deep network as a sequence of layers. We need to have three layers:\n",
    "\n",
    "- Embedding Layer - modifies the integer representation of words into dense vectors  \n",
    "- Bidirectional LSTM Layer - connects two hidden layers of opposite directions to the same output  \n",
    "- Dense Layer - output layer with softmax activation  "
   ]
  },
  {
   "cell_type": "code",
   "execution_count": 116,
   "metadata": {},
   "outputs": [],
   "source": [
    "# Deep Learning Architecture Parameters\n",
    "input_dim = 2000\n",
    "output_dim = 128\n",
    "dropout = 0.8\n",
    "LSTM_units = 256\n",
    "\n",
    "# Model fit Parameters\n",
    "batch_size = 200\n",
    "epochs = 7\n",
    "val_split = 0.3\n",
    "dense_out = 2"
   ]
  },
  {
   "cell_type": "code",
   "execution_count": 117,
   "metadata": {},
   "outputs": [],
   "source": [
    "model = Sequential()\n",
    "\n",
    "model.add( Embedding(input_dim=input_dim, output_dim = output_dim, input_length = X.shape[1]))\n",
    "model.add(SpatialDropout1D(dropout))\n",
    "model.add( Bidirectional( LSTM(LSTM_units)))\n",
    "model.add(Dropout(dropout))\n",
    "model.add( Dense(dense_out, activation = 'softmax'))\n",
    "\n",
    "model.compile(loss = 'sparse_categorical_crossentropy', optimizer = 'adam', metrics = ['accuracy'])\n"
   ]
  },
  {
   "cell_type": "markdown",
   "metadata": {},
   "source": [
    "### Architecture"
   ]
  },
  {
   "cell_type": "code",
   "execution_count": 118,
   "metadata": {},
   "outputs": [
    {
     "name": "stdout",
     "output_type": "stream",
     "text": [
      "_________________________________________________________________\n",
      "Layer (type)                 Output Shape              Param #   \n",
      "=================================================================\n",
      "embedding_15 (Embedding)     (None, 46, 128)           256000    \n",
      "_________________________________________________________________\n",
      "spatial_dropout1d_9 (Spatial (None, 46, 128)           0         \n",
      "_________________________________________________________________\n",
      "bidirectional_12 (Bidirectio (None, 512)               788480    \n",
      "_________________________________________________________________\n",
      "dropout_4 (Dropout)          (None, 512)               0         \n",
      "_________________________________________________________________\n",
      "dense_10 (Dense)             (None, 2)                 1026      \n",
      "=================================================================\n",
      "Total params: 1,045,506\n",
      "Trainable params: 1,045,506\n",
      "Non-trainable params: 0\n",
      "_________________________________________________________________\n"
     ]
    }
   ],
   "source": [
    "model.summary()"
   ]
  },
  {
   "cell_type": "code",
   "execution_count": 119,
   "metadata": {},
   "outputs": [
    {
     "name": "stdout",
     "output_type": "stream",
     "text": [
      "Train on 5970 samples, validate on 2559 samples\n",
      "Epoch 1/7\n",
      "5970/5970 [==============================] - 31s 5ms/step - loss: 0.6944 - acc: 0.5126 - val_loss: 0.6910 - val_acc: 0.4900\n",
      "Epoch 2/7\n",
      "5970/5970 [==============================] - 27s 4ms/step - loss: 0.6813 - acc: 0.5588 - val_loss: 0.6514 - val_acc: 0.6342\n",
      "Epoch 3/7\n",
      "5970/5970 [==============================] - 30s 5ms/step - loss: 0.6389 - acc: 0.6472 - val_loss: 0.6103 - val_acc: 0.6733\n",
      "Epoch 4/7\n",
      "5970/5970 [==============================] - 28s 5ms/step - loss: 0.5541 - acc: 0.7209 - val_loss: 0.5582 - val_acc: 0.7151\n",
      "Epoch 5/7\n",
      "5970/5970 [==============================] - 34s 6ms/step - loss: 0.4997 - acc: 0.7710 - val_loss: 0.5340 - val_acc: 0.7323\n",
      "Epoch 6/7\n",
      "5970/5970 [==============================] - 32s 5ms/step - loss: 0.4662 - acc: 0.7863 - val_loss: 0.5399 - val_acc: 0.7319\n",
      "Epoch 7/7\n",
      "5970/5970 [==============================] - 30s 5ms/step - loss: 0.4395 - acc: 0.7978 - val_loss: 0.5331 - val_acc: 0.7440\n",
      "dict_keys(['val_loss', 'val_acc', 'loss', 'acc'])\n"
     ]
    },
    {
     "data": {
      "image/png": "[encoded data removed]",
      "text/plain": [
       "<matplotlib.figure.Figure at 0x1a554f8a90>"
      ]
     },
     "metadata": {},
     "output_type": "display_data"
    },
    {
     "data": {
      "image/png": "[encoded data removed]",
      "text/plain": [
       "<matplotlib.figure.Figure at 0x1a3195f908>"
      ]
     },
     "metadata": {},
     "output_type": "display_data"
    }
   ],
   "source": [
    "\n",
    "history = model.fit(X_train, y_train, epochs = epochs, batch_size = batch_size, validation_split=val_split)\n",
    "\n",
    "# list all data in history\n",
    "print(history.history.keys())\n",
    "# summarize history for accuracy\n",
    "plt.plot(history.history['acc'])\n",
    "plt.plot(history.history['val_acc'])\n",
    "plt.title('model accuracy')\n",
    "plt.ylabel('accuracy')\n",
    "plt.xlabel('epoch')\n",
    "plt.legend(['train', 'test'], loc='upper left')\n",
    "plt.show()\n",
    "# summarize history for loss\n",
    "plt.plot(history.history['loss'])\n",
    "plt.plot(history.history['val_loss'])\n",
    "plt.title('model loss')\n",
    "plt.ylabel('loss')\n",
    "plt.xlabel('epoch')\n",
    "plt.legend(['train', 'test'], loc='upper left')\n",
    "plt.show()"
   ]
  },
  {
   "cell_type": "code",
   "execution_count": 120,
   "metadata": {},
   "outputs": [],
   "source": [
    "y_pred = model.predict(X_test)"
   ]
  },
  {
   "cell_type": "code",
   "execution_count": 121,
   "metadata": {},
   "outputs": [
    {
     "data": {
      "image/png": "[encoded data removed]",
      "text/plain": [
       "<matplotlib.figure.Figure at 0x1a45bdf048>"
      ]
     },
     "metadata": {},
     "output_type": "display_data"
    }
   ],
   "source": [
    "conf_mat = cf(y_test, np.argmax(y_pred, axis = 1))\n",
    "fig, ax = plt.subplots(figsize=(10,10))\n",
    "sns.heatmap(conf_mat, annot=True, fmt='d', cmap='Blues')\n",
    "plt.ylabel('Actual')\n",
    "plt.xlabel('Predicted')\n",
    "plt.show()"
   ]
  },
  {
   "cell_type": "code",
   "execution_count": 122,
   "metadata": {},
   "outputs": [
    {
     "data": {
      "text/plain": [
       "0.7229254571026723"
      ]
     },
     "execution_count": 122,
     "metadata": {},
     "output_type": "execute_result"
    }
   ],
   "source": [
    "accuracy_score(y_test,np.argmax(y_pred, axis = 1))"
   ]
  }
 ],
 "metadata": {
  "kernelspec": {
   "display_name": "Python 3",
   "language": "python",
   "name": "python3"
  },
  "language_info": {
   "codemirror_mode": {
    "name": "ipython",
    "version": 3
   },
   "file_extension": ".py",
   "mimetype": "text/x-python",
   "name": "python",
   "nbconvert_exporter": "python",
   "pygments_lexer": "ipython3",
   "version": "3.6.4"
  }
 },
 "nbformat": 4,
 "nbformat_minor": 2
}
